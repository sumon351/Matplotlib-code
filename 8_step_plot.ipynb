{
 "cells": [
  {
   "cell_type": "markdown",
   "id": "bd2997f9-94d8-4524-95f6-68c3bb2e70d6",
   "metadata": {},
   "source": [
    "# step plot"
   ]
  },
  {
   "cell_type": "code",
   "execution_count": null,
   "id": "b6134b11-0b47-40ff-b319-a05ebb6c0885",
   "metadata": {},
   "outputs": [],
   "source": [
    "import matplotlib.pyplot as plt\n",
    "x=[1,2,3,4,5,6]\n",
    "y=[1,2,3,4,5,6]\n",
    "plt.step(x,y)\n",
    "plt.show()"
   ]
  },
  {
   "cell_type": "code",
   "execution_count": null,
   "id": "d142e449-2cc4-4b92-9dd6-35d09ab7b593",
   "metadata": {},
   "outputs": [],
   "source": [
    "# grid(),title,label\n",
    "import matplotlib.pyplot as plt\n",
    "x=[1,2,3,4,5,6]\n",
    "y=[1,2,3,4,5,6]\n",
    "plt.step(x,y)\n",
    "plt.grid()\n",
    "plt.title('step plot')\n",
    "plt.xlabel('x axis--->')\n",
    "plt.ylabel('y axis--->')\n",
    "plt.show()"
   ]
  },
  {
   "cell_type": "code",
   "execution_count": null,
   "id": "926ea535-5346-471b-a068-6592134c48fe",
   "metadata": {},
   "outputs": [],
   "source": [
    "# grid(),title,label and marker with color\n",
    "import matplotlib.pyplot as plt\n",
    "x=[1,2,3,4,5,6]\n",
    "y=[1,2,3,4,5,6]\n",
    "plt.step(x,y,color='r',marker='*',ms=10,mfc='g') #ms=marker size,mfc=marker face color\n",
    "plt.grid()\n",
    "plt.title('step plot')\n",
    "plt.xlabel('x axis--->')\n",
    "plt.ylabel('y axis--->')\n",
    "plt.show()"
   ]
  },
  {
   "cell_type": "code",
   "execution_count": null,
   "id": "62df769b-1706-467b-a0d5-c94e40d41c01",
   "metadata": {},
   "outputs": [],
   "source": [
    "#label\n",
    "import matplotlib.pyplot as plt\n",
    "x=[1,2,3,4,5,6]\n",
    "y=[1,2,3,4,5,6]\n",
    "plt.step(x,y,color='r',marker='o',ms=10,mfc='g',label='python') #ms=marker size,mfc=marker face color\n",
    "plt.grid()\n",
    "plt.title('step plot')\n",
    "plt.xlabel('x axis--->')\n",
    "plt.ylabel('y axis--->')\n",
    "plt.legend()\n",
    "plt.show()"
   ]
  },
  {
   "cell_type": "code",
   "execution_count": null,
   "id": "0f2f77be-7be8-4440-aa24-e29d0b4b0fd6",
   "metadata": {},
   "outputs": [],
   "source": []
  }
 ],
 "metadata": {
  "kernelspec": {
   "display_name": "Python 3 (ipykernel)",
   "language": "python",
   "name": "python3"
  },
  "language_info": {
   "codemirror_mode": {
    "name": "ipython",
    "version": 3
   },
   "file_extension": ".py",
   "mimetype": "text/x-python",
   "name": "python",
   "nbconvert_exporter": "python",
   "pygments_lexer": "ipython3",
   "version": "3.12.7"
  }
 },
 "nbformat": 4,
 "nbformat_minor": 5
}
