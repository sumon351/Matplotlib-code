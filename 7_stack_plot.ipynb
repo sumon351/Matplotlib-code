{
 "cells": [
  {
   "cell_type": "markdown",
   "id": "4ef3cd62-d786-4653-9381-12ee7af8d88a",
   "metadata": {},
   "source": [
    "# stack plot"
   ]
  },
  {
   "cell_type": "markdown",
   "id": "386beccf-3747-418d-9c3d-18fa7912b43e",
   "metadata": {},
   "source": [
    "# stack plot known as area plot"
   ]
  },
  {
   "cell_type": "code",
   "execution_count": null,
   "id": "2e6d58a8-ed55-474d-9fff-51d06ea11052",
   "metadata": {},
   "outputs": [],
   "source": [
    "import matplotlib.pyplot as plt\n",
    "x=[1,2,3,4,5]\n",
    "area=[1,2,3,4,5]\n",
    "plt.stackplot(x,area)\n",
    "plt.show()"
   ]
  },
  {
   "cell_type": "code",
   "execution_count": null,
   "id": "32b1e344-abd6-44c2-bfac-39ea4a88f6df",
   "metadata": {},
   "outputs": [],
   "source": [
    "import matplotlib.pyplot as plt\n",
    "x=[1,2,3,4,5]\n",
    "area=[1,2,3,4,5]\n",
    "plt.stackplot(x,area)\n",
    "plt.show()"
   ]
  },
  {
   "cell_type": "code",
   "execution_count": null,
   "id": "0990d5bd-34a1-4a72-b005-2587e5b3696b",
   "metadata": {},
   "outputs": [],
   "source": [
    "# multiple stackplot\n",
    "import matplotlib.pyplot as plt\n",
    "x=[1,2,3,4,5]\n",
    "l=['area','area1','area2']\n",
    "area=[1,4,3,2,5]\n",
    "area1=[7,4,2,1,5]\n",
    "area2=[1,4,7,2,2]\n",
    "plt.stackplot(x,area,area1,area2,labels=l, colors=['r','g','y'])\n",
    "plt.legend(loc=1)\n",
    "plt.show()"
   ]
  },
  {
   "cell_type": "code",
   "execution_count": null,
   "id": "1717bc4f-f75b-4814-aa10-ba22aa02a30c",
   "metadata": {},
   "outputs": [],
   "source": [
    "# multiple stackplot with title and label\n",
    "import matplotlib.pyplot as plt\n",
    "x=[1,2,3,4,5]\n",
    "l=['area','area1','area2']\n",
    "area=[1,4,3,2,5]\n",
    "area1=[7,4,2,1,5]\n",
    "area2=[1,4,7,2,2]\n",
    "plt.title('stackplot')\n",
    "plt.xlabel('x axis --->')\n",
    "plt.ylabel('y axis --->')\n",
    "plt.stackplot(x,area,area1,area2,labels=l, colors=['r','g','y'])\n",
    "plt.legend(loc=1)\n",
    "plt.show()"
   ]
  },
  {
   "cell_type": "code",
   "execution_count": null,
   "id": "bd75a4c2-ebaf-4d48-8d89-f0d75b9fd00c",
   "metadata": {},
   "outputs": [],
   "source": []
  }
 ],
 "metadata": {
  "kernelspec": {
   "display_name": "Python 3 (ipykernel)",
   "language": "python",
   "name": "python3"
  },
  "language_info": {
   "codemirror_mode": {
    "name": "ipython",
    "version": 3
   },
   "file_extension": ".py",
   "mimetype": "text/x-python",
   "name": "python",
   "nbconvert_exporter": "python",
   "pygments_lexer": "ipython3",
   "version": "3.12.7"
  }
 },
 "nbformat": 4,
 "nbformat_minor": 5
}
