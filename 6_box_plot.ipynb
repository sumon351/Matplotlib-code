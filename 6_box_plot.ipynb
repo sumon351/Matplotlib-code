{
 "cells": [
  {
   "cell_type": "markdown",
   "id": "63a88d99-a7ed-4908-a32a-23969cde95a3",
   "metadata": {},
   "source": [
    "# box plot"
   ]
  },
  {
   "cell_type": "code",
   "execution_count": null,
   "id": "1d056f08-63f0-4ef0-bfc9-95e28a5090f1",
   "metadata": {},
   "outputs": [],
   "source": [
    "import matplotlib.pyplot as plt\n",
    "x=[10,20,30,40,50,60,70]\n",
    "plt.boxplot(x)\n",
    "plt.show()"
   ]
  },
  {
   "cell_type": "code",
   "execution_count": null,
   "id": "4f8fe47c-e083-4d0b-852c-bed9c4bead2d",
   "metadata": {},
   "outputs": [],
   "source": [
    "# using notch parameter\n",
    "import matplotlib.pyplot as plt\n",
    "x=[10,20,30,40,50,60,70]\n",
    "plt.boxplot(x,notch=True)\n",
    "plt.show()"
   ]
  },
  {
   "cell_type": "code",
   "execution_count": null,
   "id": "617f79cc-2a11-40b3-92a5-0956b7a8f6d0",
   "metadata": {},
   "outputs": [],
   "source": [
    "# horizontal line\n",
    "import matplotlib.pyplot as plt\n",
    "x=[10,20,30,40,50,60,70]\n",
    "plt.boxplot(x,vert=False)\n",
    "plt.show()"
   ]
  },
  {
   "cell_type": "code",
   "execution_count": null,
   "id": "241a21a1-7b6d-441f-a17f-fb12cbc0fd49",
   "metadata": {},
   "outputs": [],
   "source": [
    "# using width parameter\n",
    "import matplotlib.pyplot as plt\n",
    "x=[10,20,30,40,50,60,70]\n",
    "plt.boxplot(x,widths=0.5)\n",
    "plt.show()"
   ]
  },
  {
   "cell_type": "code",
   "execution_count": null,
   "id": "dff66555-deac-4184-9f5f-4fc989805cc6",
   "metadata": {},
   "outputs": [],
   "source": [
    "import matplotlib.pyplot as plt\n",
    "x=[10,20,30,40,50,60,70]\n",
    "plt.boxplot(x,labels=['python'])\n",
    "plt.show()"
   ]
  },
  {
   "cell_type": "code",
   "execution_count": null,
   "id": "58528232-7fde-40e7-ba30-79b5dead2b00",
   "metadata": {},
   "outputs": [],
   "source": [
    "# color\n",
    "import matplotlib.pyplot as plt\n",
    "x=[10,20,30,40,50,60,70]\n",
    "plt.boxplot(x,labels=['python'],patch_artist=True)\n",
    "plt.show()"
   ]
  },
  {
   "cell_type": "code",
   "execution_count": null,
   "id": "0ce47dad-a976-4a4a-848f-3148f09271b5",
   "metadata": {},
   "outputs": [],
   "source": [
    "# showmeans parameter for showing mean\n",
    "import matplotlib.pyplot as plt\n",
    "x=[10,20,30,40,50,60,70]\n",
    "plt.boxplot(x,showmeans=True)\n",
    "plt.show()"
   ]
  },
  {
   "cell_type": "code",
   "execution_count": null,
   "id": "686cdddc-dc9f-4099-9724-6cf27bb93603",
   "metadata": {},
   "outputs": [],
   "source": [
    "# outlier\n",
    "import matplotlib.pyplot as plt\n",
    "x=[10,20,30,40,50,60,70,120]\n",
    "plt.boxplot(x,showmeans=True)\n",
    "plt.show()"
   ]
  },
  {
   "cell_type": "code",
   "execution_count": null,
   "id": "b977199d-b2f3-4bdc-9002-f9780b2cf51a",
   "metadata": {},
   "outputs": [],
   "source": [
    "# outlier joining\n",
    "import matplotlib.pyplot as plt\n",
    "x=[10,20,30,40,50,60,70,120]\n",
    "plt.boxplot(x,labels=['python'],showmeans=True,whis=2)\n",
    "plt.show()"
   ]
  },
  {
   "cell_type": "code",
   "execution_count": null,
   "id": "30d6e193-8f4f-4f0e-af79-59c60baa47a3",
   "metadata": {},
   "outputs": [],
   "source": [
    "# outlier color changing\n",
    "import matplotlib.pyplot as plt\n",
    "x=[10,20,30,40,50,60,70,120]\n",
    "plt.boxplot(x,labels=['python'],showmeans=True,sym='g')\n",
    "plt.show()"
   ]
  },
  {
   "cell_type": "code",
   "execution_count": null,
   "id": "985a1b4a-c601-45b6-a714-4c65fd53ce54",
   "metadata": {},
   "outputs": [],
   "source": [
    "# outlier color changing\n",
    "import matplotlib.pyplot as plt\n",
    "x=[10,20,30,40,50,60,70,120]\n",
    "plt.boxplot(x,labels=['python'],showmeans=True,sym='g*')\n",
    "plt.show()"
   ]
  },
  {
   "cell_type": "code",
   "execution_count": null,
   "id": "f52b2fec-358a-4772-86bf-13f647b4b4c8",
   "metadata": {},
   "outputs": [],
   "source": [
    "# box properties color changing (boxprops)parameter\n",
    "import matplotlib.pyplot as plt\n",
    "x=[10,20,30,40,50,60,70,120]\n",
    "plt.boxplot(x,labels=['python'],showmeans=True,sym='g*',boxprops=dict(color='r'))\n",
    "plt.show()"
   ]
  },
  {
   "cell_type": "code",
   "execution_count": null,
   "id": "fd00b144-3c3c-44bc-96dd-dbd3082e37f2",
   "metadata": {},
   "outputs": [],
   "source": [
    "# cap(max/min) color changing (capprops)parameter\n",
    "import matplotlib.pyplot as plt\n",
    "x=[10,20,30,40,50,60,70,120]\n",
    "plt.boxplot(x,labels=['python'],showmeans=True,sym='g*',capprops=dict(color='g'))\n",
    "plt.show()"
   ]
  },
  {
   "cell_type": "code",
   "execution_count": null,
   "id": "ed2fffda-dd77-45ae-809e-da9555d251ee",
   "metadata": {},
   "outputs": [],
   "source": [
    "# whisker properties color changing (whiskerprops)parameter\n",
    "import matplotlib.pyplot as plt\n",
    "x=[10,20,30,40,50,60,70,120]\n",
    "plt.boxplot(x,labels=['python'],showmeans=True,sym='g*',whiskerprops=dict(color='y'))\n",
    "plt.show()"
   ]
  },
  {
   "cell_type": "code",
   "execution_count": null,
   "id": "02ea2c64-506f-49d4-a401-8ed1764c22cd",
   "metadata": {},
   "outputs": [],
   "source": [
    "# boxprops,whiskerprops,capprops parameter using together\n",
    "\n",
    "import matplotlib.pyplot as plt\n",
    "x=[10,20,30,40,50,60,70]\n",
    "plt.boxplot(x,labels=['python'],showmeans=True,sym='g*',boxprops=dict(color='r'),whiskerprops=dict(color='g'),capprops=dict(color='y'))\n",
    "plt.show()"
   ]
  },
  {
   "cell_type": "code",
   "execution_count": null,
   "id": "7dd28ed1-b0bb-4cec-b47c-82675e5a6952",
   "metadata": {},
   "outputs": [],
   "source": [
    "# multiple box plot created\n",
    "import matplotlib.pyplot as plt\n",
    "x=[10,20,30,40,50,60,70]\n",
    "x1=[20,30,40,50,60,70,80,90]\n",
    "y=[x,x1]\n",
    "plt.boxplot(y,labels=['python','java'],showmeans=True,sym='g*',boxprops=dict(color='r'),whiskerprops=dict(color='g'),capprops=dict(color='y'))\n",
    "plt.show()"
   ]
  },
  {
   "cell_type": "code",
   "execution_count": null,
   "id": "2ba54ac7-2f10-42c2-9051-9bac7757c8db",
   "metadata": {},
   "outputs": [],
   "source": []
  }
 ],
 "metadata": {
  "kernelspec": {
   "display_name": "Python 3 (ipykernel)",
   "language": "python",
   "name": "python3"
  },
  "language_info": {
   "codemirror_mode": {
    "name": "ipython",
    "version": 3
   },
   "file_extension": ".py",
   "mimetype": "text/x-python",
   "name": "python",
   "nbconvert_exporter": "python",
   "pygments_lexer": "ipython3",
   "version": "3.12.7"
  }
 },
 "nbformat": 4,
 "nbformat_minor": 5
}
