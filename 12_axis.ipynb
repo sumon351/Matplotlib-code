{
 "cells": [
  {
   "cell_type": "markdown",
   "id": "0ac2bdbf-7f24-43e3-9290-8de61a6da22b",
   "metadata": {},
   "source": [
    "# xticks() / yticks() / xlim() / ylim() / axis()"
   ]
  },
  {
   "cell_type": "code",
   "execution_count": null,
   "id": "6eafc6b6-5b4e-403c-8347-82d7e6b8a1a6",
   "metadata": {},
   "outputs": [],
   "source": [
    "import matplotlib.pyplot as plt\n",
    "x=[1,2,3,4,5]\n",
    "y=[2,4,5,1,7]\n",
    "plt.plot(x,y)\n",
    "plt.show()"
   ]
  },
  {
   "cell_type": "code",
   "execution_count": null,
   "id": "96a3d8a7-fdd4-449f-9f2b-66c56b44fcff",
   "metadata": {},
   "outputs": [],
   "source": [
    "import matplotlib.pyplot as plt\n",
    "x=[1,2,3,4,5]\n",
    "y=[2,4,5,1,7]\n",
    "plt.plot(x,y)\n",
    "plt.xticks(x) # [x axis value is 1 2 3 4 5]\n",
    "plt.yticks(y) # [y axis value is ]\n",
    "plt.show()"
   ]
  },
  {
   "cell_type": "code",
   "execution_count": null,
   "id": "7aaca845-06cc-439e-a22b-f4b650aad181",
   "metadata": {},
   "outputs": [],
   "source": [
    "import matplotlib.pyplot as plt\n",
    "x=[1,2,3,4,5]\n",
    "y=[2,4,5,1,7]\n",
    "plt.plot(x,y)\n",
    "plt.xticks(x,labels=['c','c++','java','python','php'])\n",
    "plt.show()"
   ]
  },
  {
   "cell_type": "code",
   "execution_count": null,
   "id": "6a171664-ab93-49a3-bf0c-3821ce403627",
   "metadata": {},
   "outputs": [],
   "source": [
    "import matplotlib.pyplot as plt\n",
    "x=[1,2,3,4,5]\n",
    "y=[2,4,5,1,7]\n",
    "plt.plot(x,y)\n",
    "plt.xlim(0,10)\n",
    "plt.show()"
   ]
  },
  {
   "cell_type": "code",
   "execution_count": null,
   "id": "497ef11f-f2e1-4772-9c2b-c84d88a60bb2",
   "metadata": {},
   "outputs": [],
   "source": [
    "import matplotlib.pyplot as plt\n",
    "x=[1,2,3,4,5]\n",
    "y=[2,4,5,1,7]\n",
    "plt.plot(x,y)\n",
    "plt.ylim(0,10)\n",
    "plt.show()"
   ]
  },
  {
   "cell_type": "code",
   "execution_count": null,
   "id": "71419fb1-a02d-4d1d-9f65-28b29aa097b1",
   "metadata": {},
   "outputs": [],
   "source": [
    "import matplotlib.pyplot as plt\n",
    "x=[1,2,3,4,5]\n",
    "y=[2,4,5,1,7]\n",
    "plt.plot(x,y)\n",
    "plt.axis([0,10,0,7])\n",
    "plt.show()"
   ]
  },
  {
   "cell_type": "code",
   "execution_count": null,
   "id": "cbd81ba8-eaab-40e8-b7ad-324fa2c68463",
   "metadata": {},
   "outputs": [],
   "source": []
  }
 ],
 "metadata": {
  "kernelspec": {
   "display_name": "Python 3 (ipykernel)",
   "language": "python",
   "name": "python3"
  },
  "language_info": {
   "codemirror_mode": {
    "name": "ipython",
    "version": 3
   },
   "file_extension": ".py",
   "mimetype": "text/x-python",
   "name": "python",
   "nbconvert_exporter": "python",
   "pygments_lexer": "ipython3",
   "version": "3.12.7"
  }
 },
 "nbformat": 4,
 "nbformat_minor": 5
}
