{
 "cells": [
  {
   "cell_type": "markdown",
   "id": "1991dfee-974b-4afb-b878-11839ee3d078",
   "metadata": {},
   "source": [
    "# Bar plot"
   ]
  },
  {
   "cell_type": "code",
   "execution_count": null,
   "id": "d982001d-56c5-49d8-a4a5-33e76dabf1f0",
   "metadata": {},
   "outputs": [],
   "source": [
    "import matplotlib.pyplot as plt\n",
    "x=['python','c','c+','java']\n",
    "y=[88,70,60,80]\n",
    "plt.bar(x,y)\n",
    "plt.show()"
   ]
  },
  {
   "cell_type": "markdown",
   "id": "4c38d49a-b84b-469d-b1e2-56d0158dcf8f",
   "metadata": {},
   "source": [
    "# using label"
   ]
  },
  {
   "cell_type": "code",
   "execution_count": null,
   "id": "2fac5c35-cce1-4fc9-9caf-cdd968b4050c",
   "metadata": {},
   "outputs": [],
   "source": [
    "import matplotlib.pyplot as plt\n",
    "x=['python','c','c++','java']\n",
    "y=[88,70,60,80]\n",
    "plt.xlabel('Languages')\n",
    "plt.ylabel('No. of popularity')\n",
    "plt.title('DS and ML ')\n",
    "plt.bar(x,y)\n",
    "plt.show()"
   ]
  },
  {
   "cell_type": "markdown",
   "id": "ff664594-2ccc-4812-9245-8a1b6baf2008",
   "metadata": {},
   "source": [
    "# fontsize"
   ]
  },
  {
   "cell_type": "code",
   "execution_count": null,
   "id": "384b1249-dd46-486c-9e2a-ff7e37c938e6",
   "metadata": {},
   "outputs": [],
   "source": [
    "import matplotlib.pyplot as plt\n",
    "x=['python','c','c++','java']\n",
    "y=[88,70,60,80]\n",
    "plt.xlabel('Languages',fontsize=15)\n",
    "plt.ylabel('No. of popularity', fontsize=15)\n",
    "plt.title('DS and ML ',fontsize=15)\n",
    "plt.bar(x,y)\n",
    "plt.show()"
   ]
  },
  {
   "cell_type": "markdown",
   "id": "cdc5aa1f-1a71-405f-bd64-0e7a411c351a",
   "metadata": {},
   "source": [
    "# width controling"
   ]
  },
  {
   "cell_type": "code",
   "execution_count": null,
   "id": "2d8e8caa-4c76-42f0-967e-401bfe4e5058",
   "metadata": {},
   "outputs": [],
   "source": [
    "import matplotlib.pyplot as plt\n",
    "x=['python','c','c++','java']\n",
    "y=[88,70,60,80]\n",
    "plt.xlabel('Languages',fontsize=15)\n",
    "plt.ylabel('No. of popularity', fontsize=15)\n",
    "plt.title('DS and ML ',fontsize=15)\n",
    "plt.bar(x,y,width=0.4)\n",
    "plt.show()"
   ]
  },
  {
   "cell_type": "markdown",
   "id": "0386daf2-2de9-4e4b-a4e8-d8ced4489c36",
   "metadata": {},
   "source": [
    "# color"
   ]
  },
  {
   "cell_type": "code",
   "execution_count": null,
   "id": "2185e1a5-c286-4c49-a8db-eb0999b941eb",
   "metadata": {},
   "outputs": [],
   "source": [
    "import matplotlib.pyplot as plt\n",
    "x=['python','c','c++','java']\n",
    "y=[88,70,60,80]\n",
    "plt.xlabel('Languages',fontsize=15)\n",
    "plt.ylabel('No. of popularity', fontsize=15)\n",
    "plt.title('DS and ML ',fontsize=15)\n",
    "plt.bar(x,y,width=0.4,color='g')\n",
    "plt.show()"
   ]
  },
  {
   "cell_type": "markdown",
   "id": "88cb454b-1c0d-4834-859c-5c3c9a52e496",
   "metadata": {},
   "source": [
    "# using multiple color"
   ]
  },
  {
   "cell_type": "code",
   "execution_count": null,
   "id": "4fa57b22-81cb-4959-bc76-4b39d972cbfe",
   "metadata": {},
   "outputs": [],
   "source": [
    "import matplotlib.pyplot as plt\n",
    "x=['python','c','c++','java']\n",
    "y=[88,70,60,80]\n",
    "plt.xlabel('Languages',fontsize=15)\n",
    "plt.ylabel('No. of popularity', fontsize=15)\n",
    "plt.title('DS and ML ',fontsize=15)\n",
    "c=['r','g','y','b']\n",
    "plt.bar(x,y,width=0.4,color=c)\n",
    "plt.show()"
   ]
  },
  {
   "cell_type": "markdown",
   "id": "a924a3d2-5d52-4504-a56d-be3e4c605bce",
   "metadata": {},
   "source": [
    "# using edge(align parameter)"
   ]
  },
  {
   "cell_type": "code",
   "execution_count": null,
   "id": "20e1ad00-3811-464a-b527-8b532ad625b7",
   "metadata": {},
   "outputs": [],
   "source": [
    "import matplotlib.pyplot as plt\n",
    "x=['python','c','c++','java']\n",
    "y=[88,70,60,80]\n",
    "plt.xlabel('Languages',fontsize=15)\n",
    "plt.ylabel('No. of popularity', fontsize=15)\n",
    "plt.title('DS and ML ',fontsize=15)\n",
    "c=['r','b','g','y']\n",
    "plt.bar(x,y,width=0.4,color=c,align='edge') # if you not use the align parameter,, that defaults in center\n",
    "plt.show()"
   ]
  },
  {
   "cell_type": "markdown",
   "id": "46e8e3d5-8339-4a57-89aa-635aa9a88a56",
   "metadata": {},
   "source": [
    "# change color of each box of boundary"
   ]
  },
  {
   "cell_type": "code",
   "execution_count": null,
   "id": "d5cbcab3-99f3-4346-b166-26de91096be8",
   "metadata": {},
   "outputs": [],
   "source": [
    "import matplotlib.pyplot as plt\n",
    "x=['python','c','c++','java']\n",
    "y=[88,70,60,80]\n",
    "plt.xlabel('Languages',fontsize=15)\n",
    "plt.ylabel('No. of popularity', fontsize=15)\n",
    "plt.title('DS and ML ',fontsize=15)\n",
    "c=['r','b','g','y']\n",
    "plt.bar(x,y,width=0.4,color=c,edgecolor='black') \n",
    "plt.show()"
   ]
  },
  {
   "cell_type": "markdown",
   "id": "09cf0ffb-3863-4f08-a2a7-7ae5c4b99314",
   "metadata": {},
   "source": [
    "# linewidth"
   ]
  },
  {
   "cell_type": "code",
   "execution_count": null,
   "id": "fe34088a-3e50-4fc1-aad9-ed4e60c850a2",
   "metadata": {},
   "outputs": [],
   "source": [
    "import matplotlib.pyplot as plt\n",
    "x=['python','c','c++','java']\n",
    "y=[88,70,60,80]\n",
    "plt.xlabel('Languages',fontsize=15)\n",
    "plt.ylabel('No. of popularity', fontsize=15)\n",
    "plt.title('DS and ML ',fontsize=15)\n",
    "c=['r','b','g','y']\n",
    "plt.bar(x,y,width=0.4,color=c,edgecolor='black',linewidth=2) \n",
    "plt.show()"
   ]
  },
  {
   "cell_type": "markdown",
   "id": "283295cc-5b12-4200-a85c-f1f395aacdb9",
   "metadata": {},
   "source": [
    "# linestyle(dotted linestyle)"
   ]
  },
  {
   "cell_type": "code",
   "execution_count": null,
   "id": "7b2ab421-74a5-44e2-834f-ab2c1ddcdafb",
   "metadata": {},
   "outputs": [],
   "source": [
    "import matplotlib.pyplot as plt\n",
    "x=['python','c','c++','java']\n",
    "y=[88,70,60,80]\n",
    "plt.xlabel('Languages',fontsize=15)\n",
    "plt.ylabel('No. of popularity', fontsize=15)\n",
    "plt.title('DS and ML ',fontsize=15)\n",
    "c=['r','b','g','y']\n",
    "plt.bar(x,y,width=0.4,color=c,edgecolor='black',linewidth=2,linestyle=':') \n",
    "plt.show()"
   ]
  },
  {
   "cell_type": "markdown",
   "id": "4dddea22-82f4-4473-a7d4-54a29bb67366",
   "metadata": {},
   "source": [
    "# using(alpha=0.4) parameter using for light and blaar color and its range (0 to 1) and using always float values"
   ]
  },
  {
   "cell_type": "code",
   "execution_count": null,
   "id": "a1b65292-34f1-49b6-baee-79754fc4d4a7",
   "metadata": {},
   "outputs": [],
   "source": [
    "import matplotlib.pyplot as plt\n",
    "x=['python','c','c++','java']\n",
    "y=[88,70,60,80]\n",
    "plt.xlabel('Languages',fontsize=15)\n",
    "plt.ylabel('No. of popularity', fontsize=15)\n",
    "plt.title('DS and ML ',fontsize=15)\n",
    "c=['r','b','g','y']\n",
    "plt.bar(x,y,width=0.4,color=c,edgecolor='black',linewidth=2,linestyle=':',alpha=0.4) \n",
    "plt.show()"
   ]
  },
  {
   "cell_type": "markdown",
   "id": "7c265485-f6e5-4dcf-b286-4e5c08541b71",
   "metadata": {},
   "source": [
    "# label (using legend() parameter)"
   ]
  },
  {
   "cell_type": "code",
   "execution_count": null,
   "id": "7c070152-271d-47d9-b944-71809fb81569",
   "metadata": {},
   "outputs": [],
   "source": [
    "import matplotlib.pyplot as plt\n",
    "x=['python','c','c++','java']\n",
    "y=[88,70,60,80]\n",
    "plt.xlabel('Languages',fontsize=15)\n",
    "plt.ylabel('No. of popularity', fontsize=15)\n",
    "plt.title('DS and ML ',fontsize=15)\n",
    "c=['r','b','g','y']\n",
    "plt.bar(x,y,width=0.4,color=c,edgecolor='black',label='popularity') \n",
    "plt.legend(loc=1)\n",
    "plt.show()"
   ]
  },
  {
   "cell_type": "markdown",
   "id": "f53439f6-c17a-492e-869a-6c197afe638d",
   "metadata": {},
   "source": [
    "# creating multiple bar graph"
   ]
  },
  {
   "cell_type": "code",
   "execution_count": null,
   "id": "a5def5b7-6879-4ebd-8155-74856e3c6c63",
   "metadata": {},
   "outputs": [],
   "source": [
    "# 1st part\n",
    "import matplotlib.pyplot as plt\n",
    "x=['python','c','c++','java']\n",
    "y=[88,70,60,80]\n",
    "z=[24,44,33,66]\n",
    "\n",
    "\n",
    "width=0.2\n",
    "plt.bar(x,y,width,color='r',label='populariy')\n",
    "plt.bar(x,z,width,color='y',label='populariy1')\n",
    "plt.legend()\n",
    "plt.show()\n"
   ]
  },
  {
   "cell_type": "code",
   "execution_count": null,
   "id": "a02ddc96-a307-41e9-8788-8711064f80d3",
   "metadata": {},
   "outputs": [],
   "source": [
    "# 2nd part\n",
    "import matplotlib.pyplot as plt\n",
    "import numpy as np\n",
    "x=['python','c','c++','java']\n",
    "y=[88,70,60,80]\n",
    "z=[24,44,33,66]\n",
    "\n",
    "\n",
    "width=0.2\n",
    "p=np.arange(len(x))\n",
    "\n",
    "plt.bar(p,y,width,color='r',label='populariy')\n",
    "plt.bar(p,z,width,color='y',label='populariy1')\n",
    "plt.legend()\n",
    "plt.show()"
   ]
  },
  {
   "cell_type": "code",
   "execution_count": null,
   "id": "ecd5777c-59ba-4fdd-80d2-b38205c6cf49",
   "metadata": {},
   "outputs": [],
   "source": [
    "# part 3 (avoid overlaping)\n",
    "import matplotlib.pyplot as plt\n",
    "import numpy as np\n",
    "x=['python','c','c++','java']\n",
    "y=[88,70,60,80]\n",
    "z=[24,44,33,66]\n",
    "\n",
    "\n",
    "width=0.2\n",
    "p=np.arange(len(x))\n",
    "p1=[j+width for j in p]\n",
    "\n",
    "plt.bar(p,y,width,color='r',label='populariy')\n",
    "plt.bar(p1,z,width,color='y',label='populariy1')\n",
    "plt.legend()\n",
    "plt.show()\n"
   ]
  },
  {
   "cell_type": "code",
   "execution_count": null,
   "id": "b9dbe090-abde-4584-8ac0-537f383a2bd9",
   "metadata": {},
   "outputs": [],
   "source": [
    "#part 4 \n",
    "import matplotlib.pyplot as plt\n",
    "import numpy as np\n",
    "\n",
    "x=['python','c','c++','java']\n",
    "y=[88,70,60,80]\n",
    "z=[24,44,33,66]\n",
    "\n",
    "\n",
    "width=0.2\n",
    "p=np.arange(len(x))\n",
    "p1=[j+width for j in p]\n",
    "\n",
    "plt.bar(p,y,width,color='r',label='populariy')\n",
    "plt.bar(p1,z,width,color='y',label='populariy1')\n",
    "\n",
    "plt.xticks(p+width/2,x)\n",
    "plt.legend()\n",
    "plt.show()"
   ]
  },
  {
   "cell_type": "code",
   "execution_count": null,
   "id": "742a9021-a046-4ff0-bb52-93a8a0885825",
   "metadata": {},
   "outputs": [],
   "source": [
    "# full part\n",
    "import matplotlib.pyplot as plt\n",
    "import numpy as np\n",
    "\n",
    "x=['python','c','c++','java']\n",
    "y=[88,70,60,80]\n",
    "z=[24,44,33,66]\n",
    "\n",
    "width=0.2\n",
    "p=np.arange(len(x))\n",
    "p1=[j+width for j in p]\n",
    "\n",
    "plt.xlabel('Languages',fontsize=15)\n",
    "plt.ylabel('No. of popularity', fontsize=15)\n",
    "plt.title('DS and ML ',fontsize=15)\n",
    "\n",
    "\n",
    "\n",
    "plt.bar(p,y,width,color='r',label='popularity') \n",
    "plt.bar(p1,z,width,color='y',label='popularity1') \n",
    "\n",
    "plt.xticks(p+width/2,x)\n",
    "plt.legend()\n",
    "plt.show()"
   ]
  },
  {
   "cell_type": "code",
   "execution_count": null,
   "id": "6fcc6459-203b-42a8-add1-156844a731a7",
   "metadata": {},
   "outputs": [],
   "source": [
    "# full part (Horizontal bar graph)\n",
    "# full part\n",
    "import matplotlib.pyplot as plt\n",
    "import numpy as np\n",
    "\n",
    "x=['python','c','c++','java']\n",
    "y=[88,70,60,80]\n",
    "z=[24,44,33,66]\n",
    "\n",
    "width=0.2\n",
    "p=np.arange(len(x))\n",
    "p1=[j+width for j in p]\n",
    "\n",
    "plt.xlabel('Languages',fontsize=15)\n",
    "plt.ylabel('No. of popularity', fontsize=15)\n",
    "plt.title('DS and ML ',fontsize=15)\n",
    "\n",
    "\n",
    "\n",
    "plt.barh(p,y,width,color='r',label='popularity') \n",
    "plt.barh(p1,z,width,color='y',label='popularity1') \n",
    "\n",
    "plt.xticks(p+width/2,x)\n",
    "plt.legend()\n",
    "\n",
    "\n"
   ]
  },
  {
   "cell_type": "code",
   "execution_count": null,
   "id": "61d82028-c402-44e8-a830-916a20082f87",
   "metadata": {},
   "outputs": [],
   "source": []
  }
 ],
 "metadata": {
  "kernelspec": {
   "display_name": "Python 3 (ipykernel)",
   "language": "python",
   "name": "python3"
  },
  "language_info": {
   "codemirror_mode": {
    "name": "ipython",
    "version": 3
   },
   "file_extension": ".py",
   "mimetype": "text/x-python",
   "name": "python",
   "nbconvert_exporter": "python",
   "pygments_lexer": "ipython3",
   "version": "3.12.7"
  }
 },
 "nbformat": 4,
 "nbformat_minor": 5
}
