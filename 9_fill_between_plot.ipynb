{
 "cells": [
  {
   "cell_type": "markdown",
   "id": "c65bb2d6-89cc-44e0-9e92-6f49a7c95dce",
   "metadata": {},
   "source": [
    "# fill between plot"
   ]
  },
  {
   "cell_type": "code",
   "execution_count": null,
   "id": "6227a895-4f55-4020-b1cc-d2d806b5cfcb",
   "metadata": {},
   "outputs": [],
   "source": [
    "import matplotlib.pyplot as plt\n",
    "x=[1,2,3,4,5]\n",
    "y=[1,2,3,4,5]\n",
    "plt.plot(x,y,color='r')\n",
    "plt.title('linear plot')\n",
    "plt.xlabel('x-axis')\n",
    "plt.ylabel('y-axis')\n",
    "plt.show()"
   ]
  },
  {
   "cell_type": "code",
   "execution_count": null,
   "id": "a46bc6f9-8744-4c51-bdae-809cdd817e14",
   "metadata": {},
   "outputs": [],
   "source": [
    "import matplotlib.pyplot as plt\n",
    "x=[1,2,3,4,5]\n",
    "y=[1,2,3,4,5]\n",
    "plt.plot(x,y,color='r')\n",
    "\n",
    "plt.fill_between(x,y)\n",
    "\n",
    "plt.title('linear plot')\n",
    "plt.xlabel('x-axis')\n",
    "plt.ylabel('y-axis')\n",
    "plt.show()"
   ]
  },
  {
   "cell_type": "code",
   "execution_count": null,
   "id": "593f7c3f-7c1d-4d3d-81ad-4b17ffdf6653",
   "metadata": {},
   "outputs": [],
   "source": []
  }
 ],
 "metadata": {
  "kernelspec": {
   "display_name": "Python 3 (ipykernel)",
   "language": "python",
   "name": "python3"
  },
  "language_info": {
   "codemirror_mode": {
    "name": "ipython",
    "version": 3
   },
   "file_extension": ".py",
   "mimetype": "text/x-python",
   "name": "python",
   "nbconvert_exporter": "python",
   "pygments_lexer": "ipython3",
   "version": "3.12.7"
  }
 },
 "nbformat": 4,
 "nbformat_minor": 5
}
